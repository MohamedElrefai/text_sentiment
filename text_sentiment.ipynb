{
 "cells": [
  {
   "cell_type": "code",
   "execution_count": 1,
   "metadata": {},
   "outputs": [
    {
     "name": "stdout",
     "output_type": "stream",
     "text": [
      "[nltk_data] Downloading package stopwords to\n",
      "[nltk_data]     C:\\Users\\moham\\AppData\\Roaming\\nltk_data...\n",
      "[nltk_data]   Package stopwords is already up-to-date!\n"
     ]
    },
    {
     "data": {
      "text/plain": [
       "True"
      ]
     },
     "execution_count": 1,
     "metadata": {},
     "output_type": "execute_result"
    }
   ],
   "source": [
    "#importing libs \n",
    "import re\n",
    "import pickle\n",
    "import nltk\n",
    "from nltk.corpus import stopwords\n",
    "from sklearn.datasets import load_files\n",
    "from sklearn.feature_extraction.text import TfidfVectorizer\n",
    "from sklearn.model_selection import train_test_split\n",
    "from sklearn.linear_model import LogisticRegression\n",
    "from sklearn.metrics import confusion_matrix\n",
    "nltk.download('stopwords')\n",
    "\n"
   ]
  },
  {
   "cell_type": "code",
   "execution_count": 2,
   "metadata": {
    "collapsed": true
   },
   "outputs": [],
   "source": [
    "\n",
    "#reading the dataset\n",
    "reviews=load_files('txt_sentoken/')\n",
    "X,y=reviews.data,reviews.target\n",
    "\n",
    "#preprocessing \n",
    "preprocessed=[]\n",
    "for sent in X:\n",
    "    sent=sent.decode('utf-8')\n",
    "    sent=re.sub('\\W',' ',sent)\n",
    "    sent=sent.lower()\n",
    "    sent=re.sub('\\s+[a-zA-Z0-9]\\s+',' ',sent)\n",
    "    sent=re.sub('^[a-zA-Z0-9]\\s+','',sent)\n",
    "    sent=re.sub('\\s+',' ',sent)\n",
    "    preprocessed.append(sent)\n"
   ]
  },
  {
   "cell_type": "code",
   "execution_count": 3,
   "metadata": {
    "collapsed": true
   },
   "outputs": [],
   "source": [
    "    \n",
    "#bow and converting it to tfidf model    \n",
    "vectorizer =TfidfVectorizer(max_features=2000,min_df=5,max_df=0.6,stop_words=stopwords.words('english'))\n",
    "X=vectorizer.fit_transform(preprocessed)\n",
    "\n",
    "    \n",
    "#splitting the data \n",
    "text_train, text_test, y_train, y_test = train_test_split(X, y, test_size=0.2,random_state=0)    \n",
    "\n"
   ]
  },
  {
   "cell_type": "code",
   "execution_count": 4,
   "metadata": {},
   "outputs": [
    {
     "name": "stdout",
     "output_type": "stream",
     "text": [
      "Accuracy is :\n",
      " 84.75 %\n"
     ]
    }
   ],
   "source": [
    "#creating the classifier and training it\n",
    "classifier=LogisticRegression()\n",
    "classifier.fit(text_train,y_train)\n",
    "\n",
    "predictions=classifier.predict(text_test)\n",
    "\n",
    "confusion=confusion_matrix(y_test,predictions)\n",
    "print('Accuracy is :\\n',(confusion[0][0]+confusion[1][1])/4,'%')  "
   ]
  },
  {
   "cell_type": "code",
   "execution_count": 5,
   "metadata": {
    "collapsed": true
   },
   "outputs": [],
   "source": [
    "#saving the model as pickle file to use it in future projects\n",
    "with open('classifier.pickle','wb') as f:\n",
    "    pickle.dump(classifier,f)\n",
    "\n",
    "with open('vectorizer.pickle','wb') as f:\n",
    "    pickle.dump(vectorizer,f)\n",
    "    "
   ]
  },
  {
   "cell_type": "code",
   "execution_count": null,
   "metadata": {
    "collapsed": true
   },
   "outputs": [],
   "source": []
  }
 ],
 "metadata": {
  "kernelspec": {
   "display_name": "Python 3",
   "language": "python",
   "name": "python3"
  },
  "language_info": {
   "codemirror_mode": {
    "name": "ipython",
    "version": 3
   },
   "file_extension": ".py",
   "mimetype": "text/x-python",
   "name": "python",
   "nbconvert_exporter": "python",
   "pygments_lexer": "ipython3",
   "version": "3.6.3"
  }
 },
 "nbformat": 4,
 "nbformat_minor": 2
}
